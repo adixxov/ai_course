{
 "cells": [
  {
   "cell_type": "code",
   "id": "initial_id",
   "metadata": {
    "collapsed": true,
    "ExecuteTime": {
     "end_time": "2024-10-09T16:57:57.115339Z",
     "start_time": "2024-10-09T16:57:50.874728Z"
    }
   },
   "source": [
    "import os\n",
    "from dotenv import find_dotenv, load_dotenv\n",
    "import openai\n",
    "from langchain_openai import OpenAI\n",
    "from langchain.agents import Tool, load_tools, create_react_agent, AgentExecutor\n",
    "from langchain.chains.llm_math.base import LLMMathChain\n",
    "from langchain.prompts import PromptTemplate\n",
    "from langchain.chains import LLMChain"
   ],
   "outputs": [],
   "execution_count": 1
  },
  {
   "metadata": {
    "ExecuteTime": {
     "end_time": "2024-10-09T16:57:58.591511Z",
     "start_time": "2024-10-09T16:57:58.580085Z"
    }
   },
   "cell_type": "code",
   "source": [
    "from config import set_environment\n",
    "set_environment()"
   ],
   "id": "96b12eedf5987766",
   "outputs": [],
   "execution_count": 2
  },
  {
   "metadata": {
    "ExecuteTime": {
     "end_time": "2024-10-09T16:58:03.121235Z",
     "start_time": "2024-10-09T16:58:03.086202Z"
    }
   },
   "cell_type": "code",
   "source": [
    "#==== Using OpenAI Chat API =======\n",
    "llm_model = \"gpt-3.5-turbo\"\n",
    "llm = OpenAI(temperature=0.0)"
   ],
   "id": "4e0555f461dbcaff",
   "outputs": [],
   "execution_count": 3
  },
  {
   "metadata": {
    "ExecuteTime": {
     "end_time": "2024-10-09T16:58:05.861166Z",
     "start_time": "2024-10-09T16:58:05.854866Z"
    }
   },
   "cell_type": "code",
   "source": [
    "# Second Generic Tool\n",
    "prompt = PromptTemplate(\n",
    "    input_variables=[\"query\"],\n",
    "    template=\"{query}\"\n",
    ")"
   ],
   "id": "e840727f38c856ce",
   "outputs": [],
   "execution_count": 4
  },
  {
   "metadata": {
    "ExecuteTime": {
     "end_time": "2024-10-09T16:58:07.916946Z",
     "start_time": "2024-10-09T16:58:06.879331Z"
    }
   },
   "cell_type": "code",
   "source": [
    "# test simple math operation\n",
    "query = \"what is 3.1^2.1\"\n",
    "\n",
    "result = llm.invoke(query)\n",
    "print(result)"
   ],
   "id": "60736d66527a9997",
   "outputs": [
    {
     "name": "stdout",
     "output_type": "stream",
     "text": [
      "\n",
      "\n",
      "3.1^2.1 is approximately 9.113. This is the result of raising 3.1 to the power of 2.1.\n"
     ]
    }
   ],
   "execution_count": 5
  },
  {
   "metadata": {
    "ExecuteTime": {
     "end_time": "2024-10-09T16:58:09.366025Z",
     "start_time": "2024-10-09T16:58:09.356535Z"
    }
   },
   "cell_type": "code",
   "source": "llm_chain = LLMChain(llm=llm, prompt=prompt)",
   "id": "a5d80a28ba3dfb50",
   "outputs": [],
   "execution_count": 6
  },
  {
   "metadata": {
    "ExecuteTime": {
     "end_time": "2024-10-09T16:58:11.885803Z",
     "start_time": "2024-10-09T16:58:11.848493Z"
    }
   },
   "cell_type": "code",
   "source": [
    "llm_math = LLMMathChain.from_llm(llm=llm)\n",
    "# )"
   ],
   "id": "54c4029af7b93858",
   "outputs": [],
   "execution_count": 7
  },
  {
   "metadata": {
    "ExecuteTime": {
     "end_time": "2024-10-09T16:58:15.994627Z",
     "start_time": "2024-10-09T16:58:15.984165Z"
    }
   },
   "cell_type": "code",
   "source": [
    "# construct tools\n",
    "tools = [\n",
    "    Tool(\n",
    "        name=\"Language Model\",\n",
    "        func=llm_chain.run,\n",
    "        description=\"Use this tool for general queries and logic\"\n",
    "    ),\n",
    "    Tool(\n",
    "        name=\"Calculator\",\n",
    "        func=llm_math.run,\n",
    "        description=\"Useful for when you need to answer questions related to Math\"\n",
    "    )\n",
    "]"
   ],
   "id": "45d04fbefded9fa6",
   "outputs": [],
   "execution_count": 8
  },
  {
   "metadata": {
    "ExecuteTime": {
     "end_time": "2024-10-09T16:58:22.484939Z",
     "start_time": "2024-10-09T16:58:22.475599Z"
    }
   },
   "cell_type": "code",
   "source": [
    "template = '''Answer the following questions as best you can. You have access to the following tools:\n",
    "\n",
    "{tools}\n",
    "\n",
    "Use the following format:\n",
    "\n",
    "Question: the input question you must answer\n",
    "Thought: you should always think about what to do\n",
    "Action: the action to take, should be one of [{tool_names}]\n",
    "Action Input: the input to the action\n",
    "Observation: the result of the action\n",
    "... (this Thought/Action/Action Input/Observation can repeat N times)\n",
    "Thought: I now know the final answer\n",
    "Final Answer: the final answer to the original input question\n",
    "\n",
    "Begin!\n",
    "\n",
    "Question: {input}\n",
    "Thought:{agent_scratchpad}'''"
   ],
   "id": "42933f61bb00a845",
   "outputs": [],
   "execution_count": 9
  },
  {
   "metadata": {
    "ExecuteTime": {
     "end_time": "2024-10-09T16:58:25.368409Z",
     "start_time": "2024-10-09T16:58:25.363145Z"
    }
   },
   "cell_type": "code",
   "source": "prompt = PromptTemplate.from_template(template)",
   "id": "25051683aab5752f",
   "outputs": [],
   "execution_count": 10
  },
  {
   "metadata": {
    "ExecuteTime": {
     "end_time": "2024-10-09T16:58:36.213851Z",
     "start_time": "2024-10-09T16:58:36.205733Z"
    }
   },
   "cell_type": "code",
   "source": [
    "agent = create_react_agent(\n",
    "    llm=llm,\n",
    "    tools=tools,\n",
    "    prompt=prompt,\n",
    "    \n",
    ")\n",
    "\n",
    "agent_executor = AgentExecutor(\n",
    "    agent=agent,\n",
    "    tools=tools,\n",
    "    verbose=True,\n",
    "    max_iterations=3 # to avoid high bills from the LLM\n",
    ")"
   ],
   "id": "dc61a400fa243e08",
   "outputs": [],
   "execution_count": 11
  },
  {
   "metadata": {
    "ExecuteTime": {
     "end_time": "2024-10-09T17:00:26.283173Z",
     "start_time": "2024-10-09T17:00:20.092243Z"
    }
   },
   "cell_type": "code",
   "source": [
    "query = \"what is 3.1^2.1? what is the capital of Canada?\" \n",
    "\n",
    "result = agent_executor.invoke({\"input\": query})\n",
    "\n",
    "print(result['output'])"
   ],
   "id": "7739544765882344",
   "outputs": [
    {
     "name": "stdout",
     "output_type": "stream",
     "text": [
      "\n",
      "\n",
      "\u001B[1m> Entering new AgentExecutor chain...\u001B[0m\n",
      "\u001B[32;1m\u001B[1;3m I should use the calculator for the first question and the language model for the second question.\n",
      "Action: Calculator\n",
      "Action Input: 3.1^2.1\u001B[0m\u001B[33;1m\u001B[1;3mAnswer: 10.761171606099687\u001B[0m\u001B[32;1m\u001B[1;3mI should use the language model to find the capital of Canada.\n",
      "Action: Language Model\n",
      "Action Input: capital of Canada\u001B[0m\u001B[36;1m\u001B[1;3m\n",
      "\n",
      "Ottawa\n",
      "\n",
      "Flag\n",
      "\n",
      "a city in SE Canada, capital of Ontario, at the confluence of the Rivers Ottawa, Gatineau, and Rideau: founded by the British in 1827; the centre of the Canadian lumber industry; two universities\n",
      "\n",
      "Pop: 774 072 (2001)\n",
      "\n",
      "a river in central Canada, rising in W Quebec and flowing west, then southeast to join the St Lawrence River as its chief tributary at Montreal; forms the border between Quebec and Ontario for most of its length. Length: 1120 km (696 miles)\n",
      "\n",
      "a province of central Canada: lies mostly on the Canadian Shield and contains the fertile plain of the lower Great Lakes and the St Lawrence River, one of the world's leading industrial areas; the second largest and the most populous province. Capital: Toronto. Pop: 12 392 721 (2004 est). Area: 891 198 sq km (344 092 sq miles)\n",
      "\n",
      "a river in central Canada, flowing northeast from Lake Ontario to the St Lawrence River at Montreal. Length: 1280 km (795 miles)\n",
      "\n",
      "a river in central Canada, flowing east from Lake Superior to the Ottawa River. Length: 1287 km (800 miles)\n",
      "\n",
      "a river in central Canada\u001B[0m\u001B[32;1m\u001B[1;3mI now know the final answer.\n",
      "Final Answer: 10.761171606099687, Ottawa\u001B[0m\n",
      "\n",
      "\u001B[1m> Finished chain.\u001B[0m\n",
      "10.761171606099687, Ottawa\n"
     ]
    }
   ],
   "execution_count": 15
  },
  {
   "metadata": {
    "ExecuteTime": {
     "end_time": "2024-10-09T16:59:35.384209Z",
     "start_time": "2024-10-09T16:59:33.274661Z"
    }
   },
   "cell_type": "code",
   "source": [
    "query = \"what is the capital of Canada?\" \n",
    "\n",
    "result = agent_executor.invoke({\"input\": query})\n",
    "\n",
    "print(result['output'])"
   ],
   "id": "42d433ffa7dfa3b9",
   "outputs": [
    {
     "name": "stdout",
     "output_type": "stream",
     "text": [
      "\n",
      "\n",
      "\u001B[1m> Entering new AgentExecutor chain...\u001B[0m\n",
      "\u001B[32;1m\u001B[1;3m I should use the Language Model tool to find the answer\n",
      "Action: Language Model\n",
      "Action Input: \"What is the capital of Canada?\"\u001B[0m\u001B[36;1m\u001B[1;3m\n",
      "\n",
      "The capital of Canada is Ottawa.\u001B[0m\u001B[32;1m\u001B[1;3mI now know the final answer\n",
      "Final Answer: Ottawa\u001B[0m\n",
      "\n",
      "\u001B[1m> Finished chain.\u001B[0m\n",
      "Ottawa\n"
     ]
    }
   ],
   "execution_count": 14
  },
  {
   "metadata": {},
   "cell_type": "code",
   "outputs": [],
   "execution_count": null,
   "source": "",
   "id": "fcf1ad42ffddfb9b"
  }
 ],
 "metadata": {
  "kernelspec": {
   "display_name": "Applied_AI_Course_Auffarth_P31013_venv",
   "language": "python",
   "name": "applied_ai_course_auffarth_p31013_venv"
  },
  "language_info": {
   "codemirror_mode": {
    "name": "ipython",
    "version": 2
   },
   "file_extension": ".py",
   "mimetype": "text/x-python",
   "name": "python",
   "nbconvert_exporter": "python",
   "pygments_lexer": "ipython2",
   "version": "2.7.6"
  }
 },
 "nbformat": 4,
 "nbformat_minor": 5
}
