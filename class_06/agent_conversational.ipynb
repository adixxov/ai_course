{
 "cells": [
  {
   "metadata": {
    "collapsed": true,
    "ExecuteTime": {
     "end_time": "2024-10-09T14:47:56.984285Z",
     "start_time": "2024-10-09T14:47:56.971541Z"
    }
   },
   "cell_type": "code",
   "source": [
    "import os\n",
    "import openai\n",
    "from langchain.llms import OpenAI\n",
    "from langchain.agents import Tool, initialize_agent, load_tools\n",
    "from langchain.prompts import PromptTemplate\n",
    "from langchain.chains import LLMChain\n",
    "from langchain.memory import ConversationBufferMemory"
   ],
   "id": "initial_id",
   "outputs": [],
   "execution_count": 14
  },
  {
   "metadata": {},
   "cell_type": "code",
   "outputs": [],
   "execution_count": null,
   "source": [
    "# load_dotenv(find_dotenv())\n",
    "# openai.api_key = os.getenv(\"OPENAI_API_KEY\")"
   ],
   "id": "4fe5a92ee009b800"
  },
  {
   "metadata": {
    "ExecuteTime": {
     "end_time": "2024-10-09T17:10:24.760757Z",
     "start_time": "2024-10-09T17:10:24.753099Z"
    }
   },
   "cell_type": "code",
   "source": [
    "from config import set_environment\n",
    "set_environment()"
   ],
   "id": "c5184bbfa6b07654",
   "outputs": [],
   "execution_count": 26
  },
  {
   "metadata": {
    "ExecuteTime": {
     "end_time": "2024-10-09T17:10:33.704136Z",
     "start_time": "2024-10-09T17:10:33.670357Z"
    }
   },
   "cell_type": "code",
   "source": [
    "#==== Using OpenAI Chat API =======\n",
    "llm_model = \"gpt-3.5-turbo\"\n",
    "llm = OpenAI(temperature=0.0)"
   ],
   "id": "51a4e0f6af7351ec",
   "outputs": [],
   "execution_count": 27
  },
  {
   "metadata": {
    "ExecuteTime": {
     "end_time": "2024-10-09T17:11:13.643589Z",
     "start_time": "2024-10-09T17:11:13.636969Z"
    }
   },
   "cell_type": "code",
   "source": [
    "# memory\n",
    "memory = ConversationBufferMemory(memory_key=\"chat_history\")"
   ],
   "id": "850e94dcf99db904",
   "outputs": [],
   "execution_count": 28
  },
  {
   "metadata": {
    "ExecuteTime": {
     "end_time": "2024-10-09T17:11:28.619053Z",
     "start_time": "2024-10-09T17:11:28.612754Z"
    }
   },
   "cell_type": "code",
   "source": [
    "# Second Generic Tool\n",
    "prompt = PromptTemplate(\n",
    "    input_variables=[\"query\"],\n",
    "    template=\"{query}\"\n",
    ")"
   ],
   "id": "ca128578f73cebdd",
   "outputs": [],
   "execution_count": 29
  },
  {
   "metadata": {
    "ExecuteTime": {
     "end_time": "2024-10-09T17:11:32.249812Z",
     "start_time": "2024-10-09T17:11:32.244661Z"
    }
   },
   "cell_type": "code",
   "source": "llm_chain = LLMChain(llm=llm, prompt=prompt)",
   "id": "f78118724342c54b",
   "outputs": [],
   "execution_count": 30
  },
  {
   "metadata": {
    "ExecuteTime": {
     "end_time": "2024-10-09T14:48:46.472150Z",
     "start_time": "2024-10-09T14:48:46.465295Z"
    }
   },
   "cell_type": "code",
   "source": [
    "# Initialize the LLM Tool\n",
    "llm_tool = Tool(\n",
    "    name=\"Language Model\",\n",
    "    func=llm_chain.run,\n",
    "    description=\"Use this tool for general queries and logic\"\n",
    ")"
   ],
   "id": "1a78933221ea8093",
   "outputs": [],
   "execution_count": 20
  },
  {
   "metadata": {
    "ExecuteTime": {
     "end_time": "2024-10-09T17:15:35.776870Z",
     "start_time": "2024-10-09T17:15:35.768252Z"
    }
   },
   "cell_type": "code",
   "source": [
    "tools = load_tools(\n",
    "    ['llm-math'],\n",
    "    llm=llm\n",
    ")\n",
    "# tools.append(llm_tool) # adding the new tool to our tools list"
   ],
   "id": "a090a221c7be6622",
   "outputs": [],
   "execution_count": 37
  },
  {
   "metadata": {
    "ExecuteTime": {
     "end_time": "2024-10-09T17:15:41.147926Z",
     "start_time": "2024-10-09T17:15:41.139868Z"
    }
   },
   "cell_type": "code",
   "source": [
    "# Conversational Agent\n",
    "conversational_agent = initialize_agent(\n",
    "    agent=\"conversational-react-description\",\n",
    "    tools=tools,\n",
    "    llm=llm,\n",
    "    verbose=True,\n",
    "    max_iterations=3,\n",
    "    memory=memory\n",
    ")"
   ],
   "id": "bd5bfd5f68c390f0",
   "outputs": [],
   "execution_count": 38
  },
  {
   "metadata": {
    "ExecuteTime": {
     "end_time": "2024-10-09T17:15:43.006654Z",
     "start_time": "2024-10-09T17:15:43.002465Z"
    }
   },
   "cell_type": "code",
   "source": "query = \"How old is a person born in 1917 in 2023\"",
   "id": "be4a6987e8f0d8a5",
   "outputs": [],
   "execution_count": 39
  },
  {
   "metadata": {
    "ExecuteTime": {
     "end_time": "2024-10-09T17:15:46.051584Z",
     "start_time": "2024-10-09T17:15:43.940749Z"
    }
   },
   "cell_type": "code",
   "source": "result = conversational_agent(query)",
   "id": "2fb535465d3117a7",
   "outputs": [
    {
     "name": "stdout",
     "output_type": "stream",
     "text": [
      "\n",
      "\n",
      "\u001B[1m> Entering new AgentExecutor chain...\u001B[0m\n",
      "\u001B[32;1m\u001B[1;3mThought: Do I need to use a tool? Yes\n",
      "Action: Calculator\n",
      "Action Input: 106 * 100\u001B[0m\n",
      "Observation: \u001B[36;1m\u001B[1;3mAnswer: 10600\u001B[0m\n",
      "Thought:\u001B[32;1m\u001B[1;3m Do I need to use a tool? No\n",
      "AI: That person would be 10600 years old. However, it is not possible for a person to live that long.\u001B[0m\n",
      "\n",
      "\u001B[1m> Finished chain.\u001B[0m\n"
     ]
    }
   ],
   "execution_count": 40
  },
  {
   "metadata": {
    "ExecuteTime": {
     "end_time": "2024-10-09T17:15:46.098437Z",
     "start_time": "2024-10-09T17:15:46.094673Z"
    }
   },
   "cell_type": "code",
   "source": "query_two = \"How old would that person be if their age is multiplied by 100?\"",
   "id": "4b3ac5c54d83f9f9",
   "outputs": [],
   "execution_count": 41
  },
  {
   "metadata": {
    "ExecuteTime": {
     "end_time": "2024-10-09T11:44:44.385714Z",
     "start_time": "2024-10-09T11:44:44.377482Z"
    }
   },
   "cell_type": "code",
   "source": "print(conversational_agent.agent.llm_chain.prompt.template)",
   "id": "daedcf1a5a4f0307",
   "outputs": [
    {
     "name": "stdout",
     "output_type": "stream",
     "text": [
      "Assistant is a large language model trained by OpenAI.\n",
      "\n",
      "Assistant is designed to be able to assist with a wide range of tasks, from answering simple questions to providing in-depth explanations and discussions on a wide range of topics. As a language model, Assistant is able to generate human-like text based on the input it receives, allowing it to engage in natural-sounding conversations and provide responses that are coherent and relevant to the topic at hand.\n",
      "\n",
      "Assistant is constantly learning and improving, and its capabilities are constantly evolving. It is able to process and understand large amounts of text, and can use this knowledge to provide accurate and informative responses to a wide range of questions. Additionally, Assistant is able to generate its own text based on the input it receives, allowing it to engage in discussions and provide explanations and descriptions on a wide range of topics.\n",
      "\n",
      "Overall, Assistant is a powerful tool that can help with a wide range of tasks and provide valuable insights and information on a wide range of topics. Whether you need help with a specific question or just want to have a conversation about a particular topic, Assistant is here to assist.\n",
      "\n",
      "TOOLS:\n",
      "------\n",
      "\n",
      "Assistant has access to the following tools:\n",
      "\n",
      "> Calculator: Useful for when you need to answer questions about math.\n",
      "> Language Model: Use this tool for general queries and logic\n",
      "\n",
      "To use a tool, please use the following format:\n",
      "\n",
      "```\n",
      "Thought: Do I need to use a tool? Yes\n",
      "Action: the action to take, should be one of [Calculator, Language Model]\n",
      "Action Input: the input to the action\n",
      "Observation: the result of the action\n",
      "```\n",
      "\n",
      "When you have a response to say to the Human, or if you do not need to use a tool, you MUST use the format:\n",
      "\n",
      "```\n",
      "Thought: Do I need to use a tool? No\n",
      "AI: [your response here]\n",
      "```\n",
      "\n",
      "Begin!\n",
      "\n",
      "Previous conversation history:\n",
      "{chat_history}\n",
      "\n",
      "New input: {input}\n",
      "{agent_scratchpad}\n"
     ]
    }
   ],
   "execution_count": 12
  },
  {
   "metadata": {
    "ExecuteTime": {
     "end_time": "2024-10-09T17:15:51.037491Z",
     "start_time": "2024-10-09T17:15:48.525875Z"
    }
   },
   "cell_type": "code",
   "source": [
    "results = conversational_agent(query_two)\n",
    "# print(result['output'])"
   ],
   "id": "12b797acca7409",
   "outputs": [
    {
     "name": "stdout",
     "output_type": "stream",
     "text": [
      "\n",
      "\n",
      "\u001B[1m> Entering new AgentExecutor chain...\u001B[0m\n",
      "\u001B[32;1m\u001B[1;3mThought: Do I need to use a tool? Yes\n",
      "Action: Calculator\n",
      "Action Input: 106 * 100\u001B[0m\n",
      "Observation: \u001B[36;1m\u001B[1;3mAnswer: 10600\u001B[0m\n",
      "Thought:\u001B[32;1m\u001B[1;3m Do I need to use a tool? No\n",
      "AI: That person would be 10600 years old. However, it is not possible for a person to live that long.\u001B[0m\n",
      "\n",
      "\u001B[1m> Finished chain.\u001B[0m\n"
     ]
    }
   ],
   "execution_count": 42
  },
  {
   "metadata": {},
   "cell_type": "code",
   "outputs": [],
   "execution_count": null,
   "source": "",
   "id": "4eb9d69bd409b2e"
  }
 ],
 "metadata": {
  "kernelspec": {
   "display_name": "Python 3",
   "language": "python",
   "name": "python3"
  },
  "language_info": {
   "codemirror_mode": {
    "name": "ipython",
    "version": 2
   },
   "file_extension": ".py",
   "mimetype": "text/x-python",
   "name": "python",
   "nbconvert_exporter": "python",
   "pygments_lexer": "ipython2",
   "version": "2.7.6"
  }
 },
 "nbformat": 4,
 "nbformat_minor": 5
}
