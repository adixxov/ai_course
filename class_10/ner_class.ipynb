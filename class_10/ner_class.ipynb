{
 "cells": [
  {
   "cell_type": "code",
   "execution_count": 1,
   "id": "initial_id",
   "metadata": {
    "ExecuteTime": {
     "end_time": "2024-11-13T11:32:53.302828Z",
     "start_time": "2024-11-13T11:32:52.741143Z"
    },
    "collapsed": true,
    "jupyter": {
     "outputs_hidden": true
    }
   },
   "outputs": [
    {
     "name": "stderr",
     "output_type": "stream",
     "text": [
      "/home/ahmeddoha/PycharmProjects/venvs/LD_prodigy/lib/python3.10/site-packages/tqdm/auto.py:21: TqdmWarning: IProgress not found. Please update jupyter and ipywidgets. See https://ipywidgets.readthedocs.io/en/stable/user_install.html\n",
      "  from .autonotebook import tqdm as notebook_tqdm\n"
     ]
    },
    {
     "name": "stdout",
     "output_type": "stream",
     "text": [
      "Path to dataset files: /home/ahmeddoha/.cache/kagglehub/datasets/dshah1612/product-tweets-dataset/versions/1\n"
     ]
    }
   ],
   "source": [
    "import kagglehub\n",
    "\n",
    "# Download latest version\n",
    "path = kagglehub.dataset_download(\"dshah1612/product-tweets-dataset\")\n",
    "\n",
    "print(\"Path to dataset files:\", path)"
   ]
  },
  {
   "cell_type": "code",
   "execution_count": 1,
   "id": "4f6d84ff17c4f0e",
   "metadata": {
    "ExecuteTime": {
     "end_time": "2024-11-13T15:11:42.158548Z",
     "start_time": "2024-11-13T15:11:39.018134Z"
    }
   },
   "outputs": [],
   "source": [
    "import pandas as pd\n",
    "from pathlib import Path"
   ]
  },
  {
   "cell_type": "code",
   "execution_count": 2,
   "id": "378d4a0c-2cac-446f-9970-cd0e18bf20bc",
   "metadata": {},
   "outputs": [],
   "source": [
    "path = Path(\"/home/ahmeddoha/PycharmProjects/LD_prodigy/prodigy-annotate/ner_class\")"
   ]
  },
  {
   "cell_type": "code",
   "execution_count": 3,
   "id": "ce1e08c9a11168af",
   "metadata": {},
   "outputs": [],
   "source": [
    "# data_df = pd.read_csv(\"/home/ahmeddoha/PycharmProjects/LD_prodigy/prodigy-annotate/ner_class/kaggle_twitter_product_data.csv\")\n",
    "data_df = pd.read_csv(Path(path, \"kaggle_twitter_product_data.csv\"))"
   ]
  },
  {
   "cell_type": "code",
   "execution_count": 4,
   "id": "f836453f-a095-4658-845d-2621349a698d",
   "metadata": {},
   "outputs": [
    {
     "data": {
      "text/html": [
       "<div>\n",
       "<style scoped>\n",
       "    .dataframe tbody tr th:only-of-type {\n",
       "        vertical-align: middle;\n",
       "    }\n",
       "\n",
       "    .dataframe tbody tr th {\n",
       "        vertical-align: top;\n",
       "    }\n",
       "\n",
       "    .dataframe thead th {\n",
       "        text-align: right;\n",
       "    }\n",
       "</style>\n",
       "<table border=\"1\" class=\"dataframe\">\n",
       "  <thead>\n",
       "    <tr style=\"text-align: right;\">\n",
       "      <th></th>\n",
       "      <th>tweet_text</th>\n",
       "      <th>emotion_in_tweet_is_directed_at</th>\n",
       "      <th>is_there_an_emotion_directed_at_a_brand_or_product</th>\n",
       "    </tr>\n",
       "  </thead>\n",
       "  <tbody>\n",
       "    <tr>\n",
       "      <th>0</th>\n",
       "      <td>.@wesley83 I have a 3G iPhone. After 3 hrs twe...</td>\n",
       "      <td>iPhone</td>\n",
       "      <td>Negative emotion</td>\n",
       "    </tr>\n",
       "    <tr>\n",
       "      <th>1</th>\n",
       "      <td>@jessedee Know about @fludapp ? Awesome iPad/i...</td>\n",
       "      <td>iPad or iPhone App</td>\n",
       "      <td>Positive emotion</td>\n",
       "    </tr>\n",
       "  </tbody>\n",
       "</table>\n",
       "</div>"
      ],
      "text/plain": [
       "                                          tweet_text  \\\n",
       "0  .@wesley83 I have a 3G iPhone. After 3 hrs twe...   \n",
       "1  @jessedee Know about @fludapp ? Awesome iPad/i...   \n",
       "\n",
       "  emotion_in_tweet_is_directed_at  \\\n",
       "0                          iPhone   \n",
       "1              iPad or iPhone App   \n",
       "\n",
       "  is_there_an_emotion_directed_at_a_brand_or_product  \n",
       "0                                   Negative emotion  \n",
       "1                                   Positive emotion  "
      ]
     },
     "execution_count": 4,
     "metadata": {},
     "output_type": "execute_result"
    }
   ],
   "source": [
    "data_df[:2]"
   ]
  },
  {
   "cell_type": "code",
   "execution_count": 5,
   "id": "c953967c-e0a7-4b39-825a-d1aa8da5a5b9",
   "metadata": {},
   "outputs": [
    {
     "data": {
      "text/plain": [
       "(9093, 3)"
      ]
     },
     "execution_count": 5,
     "metadata": {},
     "output_type": "execute_result"
    }
   ],
   "source": [
    "data_df.shape"
   ]
  },
  {
   "cell_type": "code",
   "execution_count": 4,
   "id": "214501f6-5c5a-47ee-b4e9-27d9a57936c1",
   "metadata": {},
   "outputs": [],
   "source": [
    "with open(Path(path, \"data.jsonl\"), \"w\") as f:\n",
    "    for row in data_df['tweet_text'].tolist():\n",
    "        f.write(f\"{{\\\"text\\\":\\\"{row}\\\"}}\\n\")"
   ]
  },
  {
   "cell_type": "code",
   "execution_count": 18,
   "id": "17cc7e8e-0515-4bb8-b67a-02ede8f922b2",
   "metadata": {},
   "outputs": [],
   "source": [
    "with open(Path(path, \"data_train.jsonl\"), \"w+\") as f:\n",
    "    for row in data_df['tweet_text'].tolist()[:50]:\n",
    "        f.write(f\"{{\\\"text\\\":\\\"{row}\\\"}}\\n\")"
   ]
  },
  {
   "cell_type": "code",
   "execution_count": null,
   "id": "8a995d28-5d1e-4fc2-9610-fa71ac3a03f2",
   "metadata": {},
   "outputs": [],
   "source": [
    "!python -m spacy download en_core_web_sm"
   ]
  },
  {
   "cell_type": "code",
   "execution_count": 5,
   "id": "070bdda0-b437-4d22-89b4-b929f856eba4",
   "metadata": {},
   "outputs": [
    {
     "name": "stdout",
     "output_type": "stream",
     "text": [
      "/home/ahmeddoha/PycharmProjects/venvs/Applied_AI_Course_venv/bin/python: No module named prodigy\n"
     ]
    }
   ],
   "source": [
    "# annotate training dataset\n",
    "!python -m  prodigy ner.manual TWITTER_PRODUCTS en_core_web_sm /home/ahmeddoha/PycharmProjects/LD_prodigy/prodigy-annotate/ner_class/data_train.jsonl --label PROD"
   ]
  },
  {
   "cell_type": "code",
   "execution_count": null,
   "id": "8304bb50-16d2-41d9-88f2-9b9f6613f381",
   "metadata": {},
   "outputs": [],
   "source": [
    "# export TWITTER_PRODUCTS dataset (resulting from NER training on 50 tweets) to folder\n",
    "!python -m prodigy db-out TWITTER_PRODUCTS > /home/ahmeddoha/PycharmProjects/LD_prodigy/prodigy-annotate/ner_class/TWITTER_PRODUCTS.jsonl"
   ]
  },
  {
   "cell_type": "code",
   "execution_count": null,
   "id": "e9a0fd41-ce7e-4deb-acdf-b7f206d9c346",
   "metadata": {},
   "outputs": [],
   "source": [
    "# train model on ner.manual dataset (50 tweets)\n",
    "!python -m prodigy train /home/ahmeddoha/PycharmProjects/LD_prodigy/prodigy-annotate/ner_class/TWITTER_PRODUCTS_model --ner TWITTER_PRODUCTS --label-stats --gpu-id 0"
   ]
  }
 ],
 "metadata": {
  "kernelspec": {
   "display_name": "LD_prodigy",
   "language": "python",
   "name": "ld_prodigy"
  },
  "language_info": {
   "codemirror_mode": {
    "name": "ipython",
    "version": 3
   },
   "file_extension": ".py",
   "mimetype": "text/x-python",
   "name": "python",
   "nbconvert_exporter": "python",
   "pygments_lexer": "ipython3",
   "version": "3.10.14"
  }
 },
 "nbformat": 4,
 "nbformat_minor": 5
}
